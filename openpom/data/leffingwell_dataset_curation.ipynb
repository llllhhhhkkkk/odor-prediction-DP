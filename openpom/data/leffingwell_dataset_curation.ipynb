{
 "cells": [
  {
   "cell_type": "markdown",
   "metadata": {},
   "source": [
    "# Clean Leffingwell dataset"
   ]
  },
  {
   "cell_type": "code",
   "execution_count": null,
   "metadata": {},
   "outputs": [],
   "source": [
    "import pyrfume\n",
    "import pandas as pd\n",
    "from tqdm import tqdm\n",
    "tqdm.pandas()"
   ]
  },
  {
   "cell_type": "markdown",
   "metadata": {},
   "source": [
    "```\n",
    "Info on leffingwell dataset in Pyrfume\n",
    "\n",
    "[raw]\n",
    "\"leffingwell_data.csv\" = \"Odor labels for molecules as originally compiled by John Leffingwell and cleaned by Sanchez-Lengeling et al\"\n",
    "\"leffingwell_readme.pdf\" = \"Information about the dataset\"\n",
    "LICENSE = \"Licensing information and use restrictions according to the terms of John Leffingwell and Google\"\n",
    "\n",
    "[processed]\n",
    "\"molecules.csv\" = \"Information about odorant molecules used\"\n",
    "\"behavior.csv\" = \"Odor labels for each molecule (one column per label)\"\n",
    "\"behavior_sparse.csv\" = \"Odor labels for each molecule (single column)\"\n",
    "\"stimuli.csv\" = \"Maps stimulus to CID, negative numbers assigned to compounds without CIDs\"\n",
    "```"
   ]
  },
  {
   "cell_type": "code",
   "execution_count": null,
   "metadata": {},
   "outputs": [],
   "source": [
    "# Load leffingwell datasets from pyrfume\n",
    "\n",
    "molecules = pyrfume.load_data('leffingwell/molecules.csv', remote=True)\n",
    "behavior = pyrfume.load_data('leffingwell/behavior.csv', remote=True)\n",
    "behavior_sparse = pyrfume.load_data('leffingwell/behavior_sparse.csv', remote=True)"
   ]
  },
  {
   "cell_type": "code",
   "execution_count": null,
   "metadata": {},
   "outputs": [],
   "source": [
    "\"\"\"\n",
    "Required descriptors based on the preprint:\n",
    "\n",
    "Brian K. Lee, Emily J. Mayhew, Benjamin Sanchez-Lengeling,\n",
    "Jennifer N. Wei, Wesley W. Qian, Kelsie Little, Matthew Andres,\n",
    "Britney B. Nguyen, Theresa Moloy, Jane K. Parker, Richard C. Gerkin,\n",
    "Joel D. Mainland, Alexander B. Wiltschko\n",
    "\n",
    "`A Principal Odor Map Unifies Diverse Tasks in Human Olfactory Perception preprint\n",
    "<https://www.biorxiv.org/content/10.1101/2022.09.01.504602v4>`_.\n",
    "\"\"\"\n",
    "\n",
    "required_desc = [\n",
    "'alcoholic', 'aldehydic', 'alliaceous', 'almond', 'amber', 'animal',\n",
    "'anisic', 'apple', 'apricot', 'aromatic', 'balsamic', 'banana', 'beefy',\n",
    "'bergamot', 'berry', 'bitter', 'black currant', 'brandy', 'burnt',\n",
    "'buttery', 'cabbage', 'camphoreous', 'caramellic', 'cedar', 'celery',\n",
    "'chamomile', 'cheesy', 'cherry', 'chocolate', 'cinnamon', 'citrus', 'clean',\n",
    "'clove', 'cocoa', 'coconut', 'coffee', 'cognac', 'cooked', 'cooling',\n",
    "'cortex', 'coumarinic', 'creamy', 'cucumber', 'dairy', 'dry', 'earthy',\n",
    "'ethereal', 'fatty', 'fermented', 'fishy', 'floral', 'fresh', 'fruit skin',\n",
    "'fruity', 'garlic', 'gassy', 'geranium', 'grape', 'grapefruit', 'grassy',\n",
    "'green', 'hawthorn', 'hay', 'hazelnut', 'herbal', 'honey', 'hyacinth',\n",
    "'jasmin', 'juicy', 'ketonic', 'lactonic', 'lavender', 'leafy', 'leathery',\n",
    "'lemon', 'lily', 'malty', 'meaty', 'medicinal', 'melon', 'metallic',\n",
    "'milky', 'mint', 'muguet', 'mushroom', 'musk', 'musty', 'natural', 'nutty',\n",
    "'odorless', 'oily', 'onion', 'orange', 'orangeflower', 'orris', 'ozone',\n",
    "'peach', 'pear', 'phenolic', 'pine', 'pineapple', 'plum', 'popcorn',\n",
    "'potato', 'powdery', 'pungent', 'radish', 'raspberry', 'ripe', 'roasted',\n",
    "'rose', 'rummy', 'sandalwood', 'savory', 'sharp', 'smoky', 'soapy',\n",
    "'solvent', 'sour', 'spicy', 'strawberry', 'sulfurous', 'sweaty', 'sweet',\n",
    "'tea', 'terpenic', 'tobacco', 'tomato', 'tropical', 'vanilla', 'vegetable',\n",
    "'vetiver', 'violet', 'warm', 'waxy', 'weedy', 'winey', 'woody'\n",
    "]"
   ]
  },
  {
   "cell_type": "markdown",
   "metadata": {},
   "source": [
    "### Analysis of molecules.csv"
   ]
  },
  {
   "cell_type": "code",
   "execution_count": null,
   "metadata": {},
   "outputs": [],
   "source": [
    "molecules.head()"
   ]
  },
  {
   "cell_type": "code",
   "execution_count": null,
   "metadata": {},
   "outputs": [],
   "source": [
    "molecules.info()"
   ]
  },
  {
   "cell_type": "code",
   "execution_count": null,
   "metadata": {},
   "outputs": [],
   "source": [
    "assert len(molecules['IsomericSMILES'].drop_duplicates()) == len(molecules)\n",
    "# check for duplicates in molecules"
   ]
  },
  {
   "cell_type": "code",
   "execution_count": null,
   "metadata": {},
   "outputs": [],
   "source": [
    "from rdkit import Chem\n",
    "\n",
    "def canonical_smiles(smiles):\n",
    "    \"\"\"\n",
    "    Function return canonical smiles for a given smiles\n",
    "    \"\"\"\n",
    "    return Chem.MolToSmiles(Chem.MolFromSmiles(smiles), isomericSmiles = True)"
   ]
  },
  {
   "cell_type": "code",
   "execution_count": null,
   "metadata": {},
   "outputs": [],
   "source": [
    "total_molecules = len(molecules['IsomericSMILES'].value_counts())\n",
    "total_molecules"
   ]
  },
  {
   "cell_type": "code",
   "execution_count": null,
   "metadata": {},
   "outputs": [],
   "source": [
    "molecules['canonicalSMILES'] = molecules['IsomericSMILES'].progress_apply(lambda x: canonical_smiles(x))\n",
    "assert len(molecules['canonicalSMILES'].value_counts()) == total_molecules\n",
    "\n",
    "# all isomeric smiles are in canonical from\n",
    "molecules = molecules.drop(columns=['canonicalSMILES'])"
   ]
  },
  {
   "cell_type": "markdown",
   "metadata": {},
   "source": [
    "### Analysis of behavior.csv"
   ]
  },
  {
   "cell_type": "code",
   "execution_count": null,
   "metadata": {},
   "outputs": [],
   "source": [
    "behavior.head()"
   ]
  },
  {
   "cell_type": "code",
   "execution_count": null,
   "metadata": {},
   "outputs": [],
   "source": [
    "behavior.info()"
   ]
  },
  {
   "cell_type": "code",
   "execution_count": null,
   "metadata": {},
   "outputs": [],
   "source": [
    "odors = list(behavior.columns)\n",
    "len(odors)"
   ]
  },
  {
   "cell_type": "code",
   "execution_count": null,
   "metadata": {},
   "outputs": [],
   "source": [
    "# check for molecules with no descriptors\n",
    "pd.DataFrame(behavior.sum(axis=1).sort_values(), columns=['count']).query('count==0')"
   ]
  },
  {
   "cell_type": "markdown",
   "metadata": {},
   "source": [
    "### Analysis of behavior_sparse.csv"
   ]
  },
  {
   "cell_type": "code",
   "execution_count": null,
   "metadata": {},
   "outputs": [],
   "source": [
    "behavior_sparse.head()"
   ]
  },
  {
   "cell_type": "code",
   "execution_count": null,
   "metadata": {},
   "outputs": [],
   "source": [
    "behavior_sparse.info()"
   ]
  },
  {
   "cell_type": "code",
   "execution_count": null,
   "metadata": {},
   "outputs": [],
   "source": [
    "# analyse types of data in raw label\n",
    "info_counts = {}\n",
    "def find_counts(string):\n",
    "    if len(string.split(';')) in info_counts.keys():\n",
    "        info_counts[len(string.split(';'))]+=1\n",
    "    else:\n",
    "        info_counts[len(string.split(';'))] = 1\n",
    "\n",
    "behavior_sparse['Raw Labels'].apply(lambda x: find_counts(x))\n",
    "print(info_counts)\n",
    "\n",
    "from collections import defaultdict\n",
    "raw_labels_store = defaultdict(list)\n",
    "def get_raw_label_count_based(string):\n",
    "    raw_labels_store[len(string.split(';'))].append(string)\n",
    "\n",
    "behavior_sparse['Raw Labels'].apply(lambda x: get_raw_label_count_based(x))\n",
    "\n",
    "for key, value in raw_labels_store.items():\n",
    "    print(f\"info type {key}\")\n",
    "    print(value)"
   ]
  },
  {
   "cell_type": "markdown",
   "metadata": {},
   "source": [
    "It can be seen that raw labels contain upto 4 types of information based on `;` in the raw label string.\n",
    "\n",
    "It is observed that in most cases:\n",
    "- 1st value in raw labels is odor information.\n",
    "- Others are flavour info and additional comments "
   ]
  },
  {
   "cell_type": "code",
   "execution_count": null,
   "metadata": {},
   "outputs": [],
   "source": [
    "# make descriptors format similar to goodcents\n",
    "behavior_sparse['descriptors'] = behavior_sparse['Labels'].apply(lambda x: ';'.join(eval(x)))\n",
    "behavior_sparse.head()"
   ]
  },
  {
   "cell_type": "code",
   "execution_count": null,
   "metadata": {},
   "outputs": [],
   "source": [
    "# check if given labels are accurately extracted from raw labels\n",
    "\n",
    "# get list of odors currently in descriptors\n",
    "def get_odors(desc, odor_list):\n",
    "    odors = desc.split(';')\n",
    "    for i in odors:\n",
    "        if i not in odor_list:\n",
    "            odor_list.append(i)\n",
    "\n",
    "odor_list = []\n",
    "behavior_sparse['descriptors'].apply(lambda x: get_odors(x, odor_list))\n",
    "odor_list.sort()\n",
    "\n",
    "print(\"no of odor descriptors: \", len(odor_list))\n",
    "\n",
    "# check for specific descriptors\n",
    "print(\"reuired desc not in descriptors (labels): \")\n",
    "missing_required_desc = []\n",
    "for desc in required_desc:\n",
    "    if desc not in odor_list:\n",
    "        print(desc)\n",
    "        missing_required_desc.append(desc)"
   ]
  },
  {
   "cell_type": "code",
   "execution_count": null,
   "metadata": {},
   "outputs": [],
   "source": [
    "# find desc in raw labels\n",
    "def find(string, word):\n",
    "    string = string.split(';')[0]\n",
    "    if word in string:\n",
    "        print(string)\n",
    "\n",
    "for desc in missing_required_desc:\n",
    "    print(f\"for {desc}: \")\n",
    "    behavior_sparse['Raw Labels'].apply(lambda x: find(x, desc))\n",
    "    print()"
   ]
  },
  {
   "cell_type": "markdown",
   "metadata": {},
   "source": [
    "It can observed that the most of the missing descriptors can be found in raw labels.\n",
    "\n",
    "Note: There are lot of spelling errors in the raw labels."
   ]
  },
  {
   "cell_type": "markdown",
   "metadata": {},
   "source": [
    "### Correct spell errors in raw labels"
   ]
  },
  {
   "cell_type": "code",
   "execution_count": null,
   "metadata": {},
   "outputs": [],
   "source": [
    "# code to get probable spell errors\n",
    "\n",
    "# v1\n",
    "# import enchant\n",
    "\n",
    "# # Create an instance of the English dictionary\n",
    "# dictionary = enchant.Dict(\"en_US\")\n",
    "\n",
    "# # Check if a word is spelled correctly\n",
    "# def spellcheck(word):\n",
    "#     if dictionary.check(word):\n",
    "#         # print(f\"{word} is spelled correctly.\")\n",
    "#         pass\n",
    "#     else:\n",
    "#         if word in required_desc: # ignore spell error if word in required desc\n",
    "#             return\n",
    "#         for root in root_req_desc:\n",
    "#             if root in word:    # only find spell error for words that have the certain root words\n",
    "#                 suggestions = dictionary.suggest(word)\n",
    "#                 if suggestions:\n",
    "#                     print(f\"{word} is misspelled. Suggestions: {', '.join(suggestions)}\")\n",
    "#                 else:\n",
    "#                     print(f\"{word} is misspelled, but no suggestions available.\")\n",
    "#                 break\n",
    "\n",
    "# import re\n",
    "# words_set = set()\n",
    "# def get_spell_errors(string):\n",
    "#     string = string.lower()\n",
    "#     string = string.split(';')[0] #choose odor and not flavor\n",
    "#     list_desc=re.sub(r'[!\"#$%&\\'()*\\-+,./:;<=>?@\\[\\]^_`{|}~]',\" \",string).split(\" \")\n",
    "\n",
    "#     # # handle black currant\n",
    "#     # if \"black\" in list_desc:\n",
    "#     #     idx = list_desc.index('black')\n",
    "#     #     if idx<len(list_desc)-1:\n",
    "#     #         if list_desc[idx+1] == 'currant':\n",
    "#     #             list_desc.pop(idx) #removes black\n",
    "#     #             list_desc.pop(idx) # removes currant\n",
    "#     #             list_desc.append(\"black currant\")\n",
    "    \n",
    "#     for word in list_desc:\n",
    "#         if len(word) == 0:\n",
    "#             continue\n",
    "#         elif word == ' ':\n",
    "#             continue\n",
    "#         else:\n",
    "#             words_set.update([word])\n",
    "#     # odor_set = set()\n",
    "#     # for req_odor in required_desc:\n",
    "#     #     if req_odor in list_desc:\n",
    "#     #         odor_set\n",
    "\n",
    "# behavior_sparse['Raw Labels'].apply(lambda x: get_spell_errors(x))\n",
    "# list_of_words = list(words_set)\n",
    "# list_of_words.sort()\n",
    "# for word in list_of_words:\n",
    "#     spellcheck(word)\n",
    "\n",
    "# v2\n",
    "\n",
    "# suff_root_req_desc = required_desc.copy()\n",
    "# for i in range(len(suff_root_req_desc)):\n",
    "#     suff_root_req_desc[i] = suff_root_req_desc[i][(int(0.4*len(suff_root_req_desc[i]))):]\n",
    "\n",
    "# # tried with different values like: 0.4, 0.6, 0.3\n",
    "\n",
    "# def spellcheck(word):\n",
    "#     if dictionary.check(word):\n",
    "#         # print(f\"{word} is spelled correctly.\")\n",
    "#         pass\n",
    "#     else:\n",
    "#         if word in required_desc: # ignore spell error if word in required desc\n",
    "#             return\n",
    "#         for root in suff_root_req_desc:\n",
    "#             if root in word:    # only find spell error for words that have the certain root words\n",
    "#                 suggestions = dictionary.suggest(word)\n",
    "#                 if suggestions:\n",
    "#                     print(f\"{word} is misspelled. Suggestions: {', '.join(suggestions)}\")\n",
    "#                 else:\n",
    "#                     print(f\"{word} is misspelled, but no suggestions available.\")\n",
    "#                 break\n",
    "\n",
    "# import re\n",
    "# words_set_v2 = set()\n",
    "# def get_spell_errors_v2(string):\n",
    "#     string = string.lower()\n",
    "#     list_desc=string.split(\" \")\n",
    "\n",
    "#     # handle black currant\n",
    "#     if \"black\" in list_desc:\n",
    "#         idx = list_desc.index('black')\n",
    "#         if idx<len(list_desc)-1:\n",
    "#             if list_desc[idx+1] == 'currant':\n",
    "#                 list_desc.pop(idx) #removes black\n",
    "#                 list_desc.pop(idx) # removes currant\n",
    "#                 list_desc.append(\"black currant\")\n",
    "\n",
    "#     # handle orange flower\n",
    "#     if \"orange\" in list_desc:\n",
    "#         idx = list_desc.index('orange')\n",
    "#         if idx<len(list_desc)-1:\n",
    "#             if list_desc[idx+1] == 'flower':\n",
    "#                 list_desc.pop(idx) #removes orange\n",
    "#                 list_desc.pop(idx) # removes flower\n",
    "#                 list_desc.append(\"orangeflower\")\n",
    "    \n",
    "#     # handle fruit skin\n",
    "#     for idx in range(len(list_desc)):\n",
    "#         if list_desc[idx] == 'skin' or list_desc[idx] == 'peel':\n",
    "#             if idx != 0:\n",
    "#                 if list_desc[idx-1] in ['citrus', 'orange', 'apple', 'banana', 'lemon', 'pear', 'fruit', 'peach']:\n",
    "#                     list_desc.append(\"fruit skin\")\n",
    "    \n",
    "#     for word in list_desc:\n",
    "#         if len(word) == 0:\n",
    "#             continue\n",
    "#         elif word == ' ':\n",
    "#             continue\n",
    "#         else:\n",
    "#             words_set_v2.update([word])\n",
    "#     # odor_set = set()\n",
    "#     # for req_odor in required_desc:\n",
    "#     #     if req_odor in list_desc:\n",
    "#     #         odor_set\n",
    "\n",
    "# behavior_sparse['cleaned raw labels'].apply(lambda x: get_spell_errors_v2(x))\n",
    "# list_of_words = list(words_set_v2)\n",
    "# list_of_words.sort()\n",
    "# for word in list_of_words:\n",
    "#     spellcheck(word)"
   ]
  },
  {
   "cell_type": "code",
   "execution_count": null,
   "metadata": {},
   "outputs": [],
   "source": [
    "# manually curated spellcheck and filter based on above code\n",
    "\n",
    "spellcorrect = {}\n",
    "spellcorrect['acetaldehyde'] = ['acetataldehyde']\n",
    "spellcorrect['alliaceous'] = ['alliaceious', 'alliacious', 'alliacous']\n",
    "spellcorrect['amber'] = ['ambery']\n",
    "spellcorrect['animal'] = ['animalic', 'animalistic', 'animallic']\n",
    "spellcorrect['apple'] = ['applle']\n",
    "spellcorrect['balsamic'] = ['balsum']\n",
    "spellcorrect['black currant'] = ['blackurrant']\n",
    "spellcorrect['buttery'] = ['butterry']\n",
    "spellcorrect['camphoreous'] = ['camhorous', 'camphaceous', 'camphoraceous', 'camphoraceousl', 'camphorous']\n",
    "spellcorrect['caramellic'] = ['carameellic', 'caramelic', 'caramellized']\n",
    "spellcorrect['cedar'] = ['cedary']\n",
    "spellcorrect['chamomile'] = ['camomille', 'chamomille']\n",
    "spellcorrect['cheesy'] = ['cheesey']\n",
    "spellcorrect['cocoa'] = ['tcocoa']\n",
    "spellcorrect['cinnamon'] = ['cinnamate', 'cinnamic', 'cinnamyl']\n",
    "spellcorrect['citrus'] = ['cistus', 'citral', 'citronellal', 'citronellol', 'citrusy']\n",
    "spellcorrect['coumarinic'] = ['coumarin']\n",
    "spellcorrect['creamy'] = ['ceamy']\n",
    "spellcorrect['earthy'] = ['eartthy', 'eathy']\n",
    "spellcorrect['ethereal'] = ['etheral', 'etthereal']\n",
    "spellcorrect['fermented'] = ['fermenty', 'ferrmented']\n",
    "spellcorrect['fruity'] = ['frui', 'fruiity', 'fruiti', 'fruitti', 'fruiy', 'frutti', 'fruty', 'fuity', 'ruity']\n",
    "spellcorrect['floral'] = ['floralodor', 'flouve', 'foral']\n",
    "spellcorrect['green'] = ['freen', 'grreen', 'geen']\n",
    "spellcorrect['grapefruit'] = ['grapefuit']\n",
    "spellcorrect['hawthorn'] = ['hawthorne']\n",
    "spellcorrect['hay'] = ['haylike']\n",
    "spellcorrect['herbal'] = ['hebal', 'herby', 'hebaceous']\n",
    "spellcorrect['honey'] = ['honeylike']\n",
    "spellcorrect['jasmin'] = ['jasmone']\n",
    "spellcorrect['lemon'] = ['iime', 'limonene']\n",
    "spellcorrect['lactonic'] = ['decalactone', 'dodecalactone', 'iactonic', 'lactone', 'octalactone']\n",
    "spellcorrect['malty'] = ['maltol']\n",
    "spellcorrect['milky'] = ['mildl', 'milkfat']\n",
    "spellcorrect['mushroom'] = ['mushoom']\n",
    "spellcorrect['musk'] = ['ambrette']\n",
    "spellcorrect['onion'] = ['oinion']\n",
    "spellcorrect['odorless'] = ['odourless']\n",
    "spellcorrect['orange blossom'] = ['orangeblossom']\n",
    "spellcorrect['orange'] = ['ornge'] \n",
    "spellcorrect['ozone'] = ['ozonic']\n",
    "spellcorrect['passion fruit'] = ['passionfruit']\n",
    "spellcorrect['pineapple'] = ['pienapple', 'pieneapple']\n",
    "spellcorrect['popcorn'] = ['poocorn']\n",
    "spellcorrect['pungent'] = ['pumgent']\n",
    "spellcorrect['pine'] = ['pune', 'pne']\n",
    "spellcorrect['roasted'] = ['roasty']\n",
    "spellcorrect['rose'] = ['rosemay', 'rosey']\n",
    "spellcorrect['savory'] = ['savoury']\n",
    "spellcorrect['solvent'] = ['solventy']\n",
    "spellcorrect['strawberry'] = ['strawberr']\n",
    "spellcorrect['sulfurous'] = ['sufurous', 'sulfuraceos', 'sulfuraceous', 'sulfureous', 'sulfury', 'sulphur', 'sulphurol', 'sulphurous', 'sulphury']\n",
    "spellcorrect['spicy'] = ['sicy']\n",
    "spellcorrect['tobacco'] = ['tabac']\n",
    "spellcorrect['terpenic'] = ['terpene', 'terpenes', 'terpentine', 'terpeny', 'terpineol', 'terpy']\n",
    "spellcorrect['tropical'] = ['ltropical', 'tropicall']\n",
    "spellcorrect['vanilla'] = ['vanillic', 'vanillin', 'vanlla']\n",
    "spellcorrect['vegetable'] = ['vegetal']\n",
    "spellcorrect['vetiver'] = ['vertivert', 'vetivert', 'vetiveryl']"
   ]
  },
  {
   "cell_type": "code",
   "execution_count": null,
   "metadata": {},
   "outputs": [],
   "source": [
    "# correct spell errors\n",
    "from collections import defaultdict\n",
    "reverse_spellcorrect = defaultdict(list)\n",
    "for key, values in spellcorrect.items():\n",
    "    for value in values:\n",
    "        reverse_spellcorrect[value].append(key)\n",
    "\n",
    "import re\n",
    "def correct_spell_errors_v1(string):\n",
    "    string = string.lower()\n",
    "    string = string.split(';')[0] #choose odor and not flavor\n",
    "    list_desc=re.sub(r'[!\"#$%&\\'()*\\-+,./:;<=>?@\\[\\]^_`{|}~]',\" \",string).split(\" \")\n",
    "\n",
    "    # handle black currant\n",
    "    if \"black\" in list_desc:\n",
    "        idx = list_desc.index('black')\n",
    "        if idx<len(list_desc)-1:\n",
    "            if list_desc[idx+1] == 'currant':\n",
    "                list_desc.pop(idx) #removes black\n",
    "                list_desc.pop(idx) # removes currant\n",
    "                list_desc.append(\"black currant\")\n",
    "    \n",
    "    # handle orange flower\n",
    "    if \"orange\" in list_desc:\n",
    "        idx = list_desc.index('orange')\n",
    "        if idx<len(list_desc)-1:\n",
    "            if list_desc[idx+1] == 'flower':\n",
    "                list_desc.pop(idx) #removes orange\n",
    "                list_desc.pop(idx) # removes flower\n",
    "                list_desc.append(\"orangeflower\")\n",
    "    \n",
    "    # handle fruit skin\n",
    "    for idx in range(len(list_desc)):\n",
    "        if list_desc[idx] == 'skin' or list_desc[idx] == 'peel':\n",
    "            if idx != 0:\n",
    "                if list_desc[idx-1] in ['citrus', 'orange', 'apple', 'banana', 'lemon', 'pear', 'fruit', 'peach']:\n",
    "                    list_desc.append(\"fruit skin\")\n",
    "\n",
    "\n",
    "    words_set = set()\n",
    "    for word in list_desc:\n",
    "        flag = 0\n",
    "        if len(word) == 0:\n",
    "            continue\n",
    "        elif word == ' ':\n",
    "            continue\n",
    "        else:\n",
    "            for mispelled, corrected in reverse_spellcorrect.items():\n",
    "                if word == mispelled:\n",
    "                    words_set.update(corrected)\n",
    "                    flag = 1\n",
    "                    break\n",
    "            if flag == 0:\n",
    "                words_set.update([word])\n",
    "    new_string = \" \".join(words_set)\n",
    "    return new_string\n"
   ]
  },
  {
   "cell_type": "code",
   "execution_count": null,
   "metadata": {},
   "outputs": [],
   "source": [
    "# test spell correct function\n",
    "\n",
    "print(correct_spell_errors_v1('sulfuraceous, ltropical-over-ripe fruity, strawberry, cream & cheese notes'))\n",
    "print(correct_spell_errors_v1('sulfury, alliaceous, roasted, savoury, truffle, pne'))"
   ]
  },
  {
   "cell_type": "code",
   "execution_count": null,
   "metadata": {},
   "outputs": [],
   "source": [
    "# spell correct\n",
    "\n",
    "behavior_sparse['cleaned raw labels'] = behavior_sparse['Raw Labels'].apply(lambda x: correct_spell_errors_v1(x))\n",
    "behavior_sparse.head()"
   ]
  },
  {
   "cell_type": "markdown",
   "metadata": {},
   "source": [
    "### Clean and get new descriptors from 'cleaned raw labels"
   ]
  },
  {
   "cell_type": "code",
   "execution_count": null,
   "metadata": {},
   "outputs": [],
   "source": [
    "# code to get cleaned desc root combination\n",
    "\n",
    "# from collections import defaultdict\n",
    "# roots_dict = defaultdict(set)\n",
    "# def connect_roots(cleaned_raw_labels):\n",
    "#     raw_list = cleaned_raw_labels.split(' ')\n",
    "#     for desc in required_desc:\n",
    "#         root_set = set()\n",
    "#         for word in raw_list:\n",
    "#             if word == desc:\n",
    "#                 root_set.update([word])\n",
    "#             elif re.match(f'{desc[:-(int(0.6*len(desc)))]}.*', word):\n",
    "#                 root_set.update([word])\n",
    "#         roots_dict[desc].update(list(root_set))\n",
    "\n",
    "# behavior_sparse['cleaned raw labels'].apply(lambda x: connect_roots(x))"
   ]
  },
  {
   "cell_type": "code",
   "execution_count": null,
   "metadata": {},
   "outputs": [],
   "source": [
    "# manually cleaned desc root combination based above code\n",
    "merger_root_dict = {}\n",
    "merger_root_dict['alcoholic'] = ['alcohol', 'alcoholic']\n",
    "merger_root_dict['aldehydic'] = ['aldehydic']\n",
    "merger_root_dict['alliaceous'] = ['alliaceous', 'allium']\n",
    "merger_root_dict['almond'] = ['almond', 'almonds']\n",
    "merger_root_dict['amber'] = ['amber', 'ambergris']\n",
    "merger_root_dict['animal'] = ['animal']\n",
    "merger_root_dict['anisic'] = ['anise', 'anisic']\n",
    "merger_root_dict['apple'] = ['apple']\n",
    "merger_root_dict['apricot'] = ['apricot']\n",
    "merger_root_dict['aromatic'] = ['aromatic']\n",
    "merger_root_dict['balsamic'] = ['balsam', 'balsamic']\n",
    "merger_root_dict['banana'] = ['banana']\n",
    "merger_root_dict['beefy'] = ['beef', 'beefsteak', 'beefy']\n",
    "merger_root_dict['bergamot'] = ['bergamot']\n",
    "merger_root_dict['berry'] = ['berry']\n",
    "merger_root_dict['bitter'] = ['bitter', 'bitterness', 'bittersweet']\n",
    "merger_root_dict['black currant'] = ['black currant']\n",
    "merger_root_dict['brandy'] = ['brandy']\n",
    "merger_root_dict['burnt'] = ['burned', 'burning', 'burnt']\n",
    "merger_root_dict['buttery'] = ['butter', 'buttery']\n",
    "merger_root_dict['cabbage'] = ['cabbage']\n",
    "merger_root_dict['camphoreous'] = ['camphor', 'camphoreous']\n",
    "merger_root_dict['caramellic'] = ['caramel', 'caramelized', 'caramellic']\n",
    "merger_root_dict['cedar'] = ['cedar']\n",
    "merger_root_dict['celery'] = ['celery']\n",
    "merger_root_dict['chamomile'] = ['chamomile']\n",
    "merger_root_dict['cheesy'] = ['cheese', 'cheesy']\n",
    "merger_root_dict['cherry'] = ['cherries', 'cherry']\n",
    "merger_root_dict['chocolate'] = ['chocolate']\n",
    "merger_root_dict['cinnamon'] = ['cinnamon']\n",
    "merger_root_dict['citrus'] = ['citronella', 'citrus']\n",
    "merger_root_dict['clean'] = ['clean']\n",
    "merger_root_dict['clove'] = ['clove', 'clover']\n",
    "merger_root_dict['cocoa'] = ['cocoa']\n",
    "merger_root_dict['coconut'] = ['coconut']\n",
    "merger_root_dict['coffee'] = ['coffee']\n",
    "merger_root_dict['cognac'] = ['cognac']\n",
    "merger_root_dict['cooked'] = ['cooked']\n",
    "merger_root_dict['cooling'] = ['cool', 'cooling', 'coolness']\n",
    "merger_root_dict['cortex'] = ['cortex']\n",
    "merger_root_dict['coumarinic'] = ['coumarinic']\n",
    "merger_root_dict['creamy'] = ['cream', 'creamy']\n",
    "merger_root_dict['cucumber'] = ['cucumber']\n",
    "merger_root_dict['dairy'] = ['dairy']\n",
    "merger_root_dict['dry'] = ['dried', 'dry']\n",
    "merger_root_dict['earthy'] = ['earth', 'earthy']\n",
    "merger_root_dict['ethereal'] = ['ethereal']\n",
    "merger_root_dict['fatty'] = ['fat', 'fats', 'fatty']\n",
    "merger_root_dict['fermented'] = ['fermented', 'fermenting']\n",
    "merger_root_dict['fishy'] = ['fish', 'fishy']\n",
    "merger_root_dict['floral'] = ['flora', 'floral', 'flower', 'flowery']\n",
    "merger_root_dict['fresh'] = ['fresh', 'freshly', 'freshness']\n",
    "merger_root_dict['fruit skin'] = ['fruit skin']\n",
    "merger_root_dict['fruity'] = ['fruit', 'fruitier', 'fruitiness', 'fruits', 'fruity']\n",
    "merger_root_dict['garlic'] = ['garlic']\n",
    "merger_root_dict['gassy'] = ['gassy']\n",
    "merger_root_dict['geranium'] = ['geranium']\n",
    "merger_root_dict['grape'] = ['grape', 'grapes']\n",
    "merger_root_dict['grapefruit'] = ['grapefruit']\n",
    "merger_root_dict['grassy'] = ['grass', 'grassy']\n",
    "merger_root_dict['green'] = ['green', 'greenery', 'greenish']\n",
    "merger_root_dict['hawthorn'] = ['hawthorn']\n",
    "merger_root_dict['hay'] = ['hay']\n",
    "merger_root_dict['hazelnut'] = ['hazel', 'hazelnut', 'hazelnuts']\n",
    "merger_root_dict['herbal'] = ['herb', 'herbaceous', 'herbal']\n",
    "merger_root_dict['honey'] = ['honey', 'honeydew', 'honeysuckle']\n",
    "merger_root_dict['hyacinth'] = ['hyacinth']\n",
    "merger_root_dict['jasmin'] = ['jasmin', 'jasmine']\n",
    "merger_root_dict['juicy'] = ['juice', 'juiciness', 'juicy']\n",
    "merger_root_dict['ketonic'] = ['ketonic']\n",
    "merger_root_dict['lactonic'] = ['lactonic']\n",
    "merger_root_dict['lavender'] = ['lavender']\n",
    "merger_root_dict['leafy'] = ['leaf', 'leafy', 'lettuce']\n",
    "merger_root_dict['leathery'] = ['leather', 'leathery']\n",
    "merger_root_dict['lemon'] = ['lemon', 'lemony', 'lime']\n",
    "merger_root_dict['lily'] = ['lilac', 'lily']\n",
    "merger_root_dict['malty'] = ['malt', 'malty']\n",
    "merger_root_dict['meaty'] = ['meat', 'meats', 'meaty']\n",
    "merger_root_dict['medicinal'] = ['medicinal']\n",
    "merger_root_dict['melon'] = ['melon']\n",
    "merger_root_dict['metallic'] = ['metallic']\n",
    "merger_root_dict['milky'] = ['milk', 'milky']\n",
    "merger_root_dict['mint'] = ['mint', 'minty']\n",
    "merger_root_dict['muguet'] = ['muguet']\n",
    "merger_root_dict['mushroom'] = ['mushroom']\n",
    "merger_root_dict['musk'] = ['musk', 'musky']\n",
    "merger_root_dict['musty'] = ['musty']\n",
    "merger_root_dict['natural'] = ['natural']\n",
    "merger_root_dict['nutty'] = ['nut', 'nuts', 'nutty']\n",
    "merger_root_dict['odorless'] = ['odorless']\n",
    "merger_root_dict['oily'] = ['oil', 'oils', 'oily']\n",
    "merger_root_dict['onion'] = ['onion', 'onions']\n",
    "merger_root_dict['orange'] = ['orange']\n",
    "merger_root_dict['orangeflower'] = ['orangeflower']\n",
    "merger_root_dict['orris'] = ['orris']\n",
    "merger_root_dict['ozone'] = ['ozone']\n",
    "merger_root_dict['peach'] = ['peach', 'peachy']\n",
    "merger_root_dict['pear'] = ['pear']\n",
    "merger_root_dict['phenolic'] = ['phenol', 'phenolc', 'phenolic']\n",
    "merger_root_dict['pine'] = ['pine', 'piney']\n",
    "merger_root_dict['pineapple'] = ['pineapple']\n",
    "merger_root_dict['plum'] = ['plum']\n",
    "merger_root_dict['popcorn'] = ['popcorn']\n",
    "merger_root_dict['potato'] = ['potato']\n",
    "merger_root_dict['powdery'] = ['powdery']\n",
    "merger_root_dict['pungent'] = ['pungency', 'pungent']\n",
    "merger_root_dict['radish'] = ['radish', 'horseradish']\n",
    "merger_root_dict['raspberry'] = ['raspberry']\n",
    "merger_root_dict['ripe'] = ['ripe', 'ripened']\n",
    "merger_root_dict['roasted'] = ['roast', 'roasted']\n",
    "merger_root_dict['rose'] = ['rose', 'rosemary', 'rosy']\n",
    "merger_root_dict['rummy'] = ['rum', 'rummy']\n",
    "merger_root_dict['sandalwood'] = ['sandalwood']\n",
    "merger_root_dict['savory'] = ['savory']\n",
    "merger_root_dict['sharp'] = ['sharp']\n",
    "merger_root_dict['smoky'] = ['smoke', 'smoked', 'smokey', 'smoky']\n",
    "merger_root_dict['soapy'] = ['soapy']\n",
    "merger_root_dict['solvent'] = ['solvent']\n",
    "merger_root_dict['sour'] = ['sour']\n",
    "merger_root_dict['spicy'] = ['spice', 'spicy']\n",
    "merger_root_dict['strawberry'] = ['strawberry']\n",
    "merger_root_dict['sulfurous'] = ['sulfide', 'sulfur', 'sulfuric', 'sulfurous']\n",
    "merger_root_dict['sweaty'] = ['sweat','sweaty']\n",
    "merger_root_dict['sweet'] = ['sweet', 'sweeter', 'sweetish', 'sweetness']\n",
    "merger_root_dict['tea'] = ['tea']\n",
    "merger_root_dict['terpenic'] = ['terpenic']\n",
    "merger_root_dict['tobacco'] = ['tobacco', 'tobaccos']\n",
    "merger_root_dict['tomato'] = ['tomato']\n",
    "merger_root_dict['tropical'] = ['tropical']\n",
    "merger_root_dict['vanilla'] = ['vanilla']\n",
    "merger_root_dict['vegetable'] = ['vegetable', 'vegetables', 'vegetative']\n",
    "merger_root_dict['vetiver'] = ['vetiver']\n",
    "merger_root_dict['violet'] = ['violet']\n",
    "merger_root_dict['warm'] = ['warm', 'warming']\n",
    "merger_root_dict['waxy'] = ['waxy']\n",
    "merger_root_dict['weedy'] = ['weedy']\n",
    "merger_root_dict['winey'] = ['wine', 'wines', 'winey']\n",
    "merger_root_dict['woody'] = ['wood', 'woody']"
   ]
  },
  {
   "cell_type": "code",
   "execution_count": null,
   "metadata": {},
   "outputs": [],
   "source": [
    "from collections import defaultdict\n",
    "reverse_merger_root_dict = defaultdict(list)\n",
    "for key, values in merger_root_dict.items():\n",
    "    for value in values:\n",
    "        reverse_merger_root_dict[value].append(key)\n",
    "\n",
    "def clean_desc(cleaned_raw_labels):\n",
    "    desc_set = set()\n",
    "    raw_list = cleaned_raw_labels.split(' ')\n",
    "\n",
    "    # handle black currant\n",
    "    if \"black\" in raw_list:\n",
    "        idx = raw_list.index('black')\n",
    "        if idx<len(raw_list)-1:\n",
    "            if raw_list[idx+1] == 'currant':\n",
    "                raw_list.pop(idx) #removes black\n",
    "                raw_list.pop(idx) # removes currant\n",
    "                raw_list.append(\"black currant\")\n",
    "    \n",
    "    # handle orange flower\n",
    "    if \"orange\" in raw_list:\n",
    "        idx = raw_list.index('orange')\n",
    "        if idx<len(raw_list)-1:\n",
    "            if raw_list[idx+1] == 'flower':\n",
    "                raw_list.pop(idx) #removes orange\n",
    "                raw_list.pop(idx) # removes flower\n",
    "                raw_list.append(\"orangeflower\")\n",
    "    \n",
    "    # handle fruit skin\n",
    "    for idx in range(len(raw_list)):\n",
    "        if raw_list[idx] == 'skin' or raw_list[idx] == 'peel':\n",
    "            if idx != 0:\n",
    "                if raw_list[idx-1] in ['citrus', 'orange', 'apple', 'banana', 'lemon', 'pear', 'fruit', 'peach']:\n",
    "                    raw_list.append(\"fruit skin\")\n",
    "\n",
    "    for word in raw_list:\n",
    "        for root, desc in reverse_merger_root_dict.items():\n",
    "            if word == root:\n",
    "                desc_set.update(desc)\n",
    "                break\n",
    "    if len(desc_set) == 0:\n",
    "        return None\n",
    "    return ';'.join(desc_set)\n"
   ]
  },
  {
   "cell_type": "code",
   "execution_count": null,
   "metadata": {},
   "outputs": [],
   "source": [
    "# test clean descriptors function\n",
    "\n",
    "clean_desc('fruity odorless herbaceous spicy odor slight woody')"
   ]
  },
  {
   "cell_type": "code",
   "execution_count": null,
   "metadata": {},
   "outputs": [],
   "source": [
    "behavior_sparse['new_descriptors'] = behavior_sparse['cleaned raw labels'].apply(lambda x: clean_desc(x))\n",
    "behavior_sparse.head()"
   ]
  },
  {
   "cell_type": "code",
   "execution_count": null,
   "metadata": {},
   "outputs": [],
   "source": [
    "# check for nans in new descriptors\n",
    "behavior_sparse[behavior_sparse['new_descriptors'].isna()]\n"
   ]
  },
  {
   "cell_type": "markdown",
   "metadata": {},
   "source": [
    "### merge `descriptors` and `new_descriptors`"
   ]
  },
  {
   "cell_type": "code",
   "execution_count": null,
   "metadata": {},
   "outputs": [],
   "source": [
    "def update_desc(descriptors, new_descriptors):\n",
    "    desc_set = set()\n",
    "    if new_descriptors is None:\n",
    "        return descriptors\n",
    "    else:\n",
    "        concat_desc = descriptors+';'+new_descriptors\n",
    "        desc_set.update(concat_desc.split(';'))\n",
    "    return ';'.join(desc_set)\n",
    "\n",
    "# test update_desc\n",
    "\n",
    "print(update_desc('alliaceous;burnt;caramellic;coffee', None))\n",
    "print(update_desc('green;fruity;apple;tropical', 'green;fruity;apple'))"
   ]
  },
  {
   "cell_type": "code",
   "execution_count": null,
   "metadata": {},
   "outputs": [],
   "source": [
    "behavior_sparse['new_descriptors'] = behavior_sparse.apply(lambda x: update_desc(x['descriptors'], x['new_descriptors']), axis=1)\n",
    "behavior_sparse.head()"
   ]
  },
  {
   "cell_type": "code",
   "execution_count": null,
   "metadata": {},
   "outputs": [],
   "source": [
    "# check for odorless mix up\n",
    "behavior_sparse[behavior_sparse['new_descriptors'].str.match('.*odorless.*')]"
   ]
  },
  {
   "cell_type": "code",
   "execution_count": null,
   "metadata": {},
   "outputs": [],
   "source": [
    "# handle odorless\n",
    "def handle_odorless(desc_string):\n",
    "    desc_list = desc_string.split(';')\n",
    "    desc_set = set()\n",
    "    for desc in desc_list:\n",
    "        if desc == 'odorless':\n",
    "            continue\n",
    "        desc_set.update([desc])\n",
    "    if len(desc_set) == 0:\n",
    "        desc_set.update(['odorless'])\n",
    "    return ';'.join(desc_set)\n",
    "\n",
    "# test handle_odorless\n",
    "print(handle_odorless('fruity;spicy;odorless;herbal;woody'))\n",
    "print(handle_odorless('odorless'))"
   ]
  },
  {
   "cell_type": "code",
   "execution_count": null,
   "metadata": {},
   "outputs": [],
   "source": [
    "behavior_sparse['new_descriptors'] = behavior_sparse['new_descriptors'].apply(lambda x: handle_odorless(x))\n",
    "behavior_sparse.head()"
   ]
  },
  {
   "cell_type": "markdown",
   "metadata": {},
   "source": [
    "### Get required odor descriptors"
   ]
  },
  {
   "cell_type": "code",
   "execution_count": null,
   "metadata": {},
   "outputs": [],
   "source": [
    "mol_behaviors = pd.merge(molecules['IsomericSMILES'], behavior_sparse['new_descriptors'], how='inner', left_index=True, right_index=True)\n",
    "mol_behaviors = mol_behaviors.rename(columns={'new_descriptors':'descriptors'})\n",
    "mol_behaviors.head()"
   ]
  },
  {
   "cell_type": "code",
   "execution_count": null,
   "metadata": {},
   "outputs": [],
   "source": [
    "odor_list = []\n",
    "mol_behaviors['descriptors'].apply(lambda x: get_odors(x, odor_list))\n",
    "odor_list.sort()\n",
    "\n",
    "print(\"no of odor descriptors: \", len(odor_list))\n",
    "\n",
    "odors_df = pd.DataFrame(odor_list, columns=['desc'])\n",
    "odors_df"
   ]
  },
  {
   "cell_type": "code",
   "execution_count": null,
   "metadata": {},
   "outputs": [],
   "source": [
    "# check for required desc not in odor list\n",
    "missing_desc = []\n",
    "for req in required_desc:\n",
    "    if req not in odor_list:\n",
    "        missing_desc.append(req)\n",
    "missing_desc"
   ]
  },
  {
   "cell_type": "code",
   "execution_count": null,
   "metadata": {},
   "outputs": [],
   "source": [
    "# update required desc\n",
    "\n",
    "new_required_desc = required_desc\n",
    "new_required_desc.remove('cortex')"
   ]
  },
  {
   "cell_type": "code",
   "execution_count": null,
   "metadata": {},
   "outputs": [],
   "source": [
    "# Get required odor descriptors\n",
    "def get_req_desc(desc_string):\n",
    "    desc_list = desc_string.split(';')\n",
    "    desc_set = set()\n",
    "    for desc in desc_list:\n",
    "        if desc in new_required_desc:\n",
    "            desc_set.update([desc])\n",
    "    return ';'.join(desc_set)\n",
    "\n",
    "mol_behaviors['Updated_Desc'] = mol_behaviors['descriptors'].apply(lambda x: get_req_desc(x))\n",
    "\n",
    "odor_list = []\n",
    "mol_behaviors['Updated_Desc'].apply(lambda x: get_odors(x, odor_list))\n",
    "odor_list.sort()\n",
    "\n",
    "print(\"no of odor descriptors: \", len(odor_list))\n",
    "\n",
    "odors_df = pd.DataFrame(odor_list, columns=['desc'])\n",
    "odors_df"
   ]
  },
  {
   "cell_type": "code",
   "execution_count": null,
   "metadata": {},
   "outputs": [],
   "source": [
    "# encode the descriptors\n",
    "odor_dummies = mol_behaviors['Updated_Desc'].str.get_dummies(sep=';')\n",
    "mol_behaviors_encoded = pd.concat([mol_behaviors, odor_dummies], axis=1)\n",
    "mol_behaviors_encoded = mol_behaviors_encoded.drop(columns=['descriptors'])\n",
    "mol_behaviors_encoded.head()"
   ]
  },
  {
   "cell_type": "code",
   "execution_count": null,
   "metadata": {},
   "outputs": [],
   "source": [
    "# check for molecules with no descriptors\n",
    "required_encoded = mol_behaviors_encoded.drop(columns=['IsomericSMILES', 'Updated_Desc'])\n",
    "no_desc_df = pd.DataFrame(required_encoded.sum(axis=1).sort_values(), columns=['count']).query('count==0')\n",
    "no_desc_df"
   ]
  },
  {
   "cell_type": "code",
   "execution_count": null,
   "metadata": {},
   "outputs": [],
   "source": [
    "# remove molecules with no descriptors\n",
    "required_leffingwell_dataset = mol_behaviors_encoded.drop(no_desc_df.index).reset_index(drop=True)\n",
    "required_leffingwell_dataset.head()"
   ]
  },
  {
   "cell_type": "code",
   "execution_count": null,
   "metadata": {},
   "outputs": [],
   "source": [
    "required_leffingwell_dataset.info()"
   ]
  },
  {
   "cell_type": "code",
   "execution_count": null,
   "metadata": {},
   "outputs": [],
   "source": [
    "# frequency per descriptor in the required_leffingwell_dataset\n",
    "required_encoded_v2 = required_leffingwell_dataset.drop(columns=['IsomericSMILES', 'Updated_Desc'])\n",
    "required_encoded_v2.sum().sort_values(ascending=False)"
   ]
  },
  {
   "cell_type": "code",
   "execution_count": null,
   "metadata": {},
   "outputs": [],
   "source": [
    "# save the curated dataset\n",
    "required_leffingwell_dataset.to_csv('./curated_datasets/curated_leffingwell.csv', index=False)"
   ]
  }
 ],
 "metadata": {
  "kernelspec": {
   "display_name": "odor_pom",
   "language": "python",
   "name": "python3"
  },
  "language_info": {
   "codemirror_mode": {
    "name": "ipython",
    "version": 3
   },
   "file_extension": ".py",
   "mimetype": "text/x-python",
   "name": "python",
   "nbconvert_exporter": "python",
   "pygments_lexer": "ipython3",
   "version": "3.9.17"
  },
  "orig_nbformat": 4
 },
 "nbformat": 4,
 "nbformat_minor": 2
}
